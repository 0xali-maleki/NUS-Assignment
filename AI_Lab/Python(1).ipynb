{
 "cells": [
  {
   "cell_type": "markdown",
   "id": "511a0bcb",
   "metadata": {},
   "source": [
    "# Jupyter Installation"
   ]
  },
  {
   "cell_type": "markdown",
   "id": "0b6a11fa",
   "metadata": {},
   "source": [
    "Anaconda, Jupyter"
   ]
  },
  {
   "cell_type": "markdown",
   "id": "54c0ec48",
   "metadata": {},
   "source": [
    "# Operators"
   ]
  },
  {
   "cell_type": "code",
   "execution_count": 2,
   "id": "c4a22d31",
   "metadata": {},
   "outputs": [
    {
     "name": "stdout",
     "output_type": "stream",
     "text": [
      "20\n"
     ]
    }
   ],
   "source": [
    "x=18\n",
    "y=2\n",
    "A=x+y\n",
    "print(A)"
   ]
  },
  {
   "cell_type": "code",
   "execution_count": 3,
   "id": "7dc0168b",
   "metadata": {},
   "outputs": [
    {
     "name": "stdout",
     "output_type": "stream",
     "text": [
      "jam= 22\n",
      "14\n",
      "72\n",
      "4.5\n",
      "4\n",
      "2\n"
     ]
    }
   ],
   "source": [
    "x=18\n",
    "y=4\n",
    "print('jam=',x+y)\n",
    "print(x-y)\n",
    "print(x*y)\n",
    "print(x/y)\n",
    "print(x//y)\n",
    "print(x%y)"
   ]
  },
  {
   "cell_type": "code",
   "execution_count": 3,
   "id": "fbed680c",
   "metadata": {},
   "outputs": [
    {
     "name": "stdout",
     "output_type": "stream",
     "text": [
      "x>y is False\n",
      "x<y is True\n",
      "x==y is False\n",
      "x!=y is True\n",
      "x>=y is False\n",
      "x<=y is True\n"
     ]
    }
   ],
   "source": [
    "x=7\n",
    "y=13\n",
    "print('x>y is',x>y)\n",
    "print('x<y is',x<y)\n",
    "print('x==y is',x==y)\n",
    "print('x!=y is',x!=y)\n",
    "print('x>=y is',x>=y)\n",
    "print('x<=y is',x<=y)"
   ]
  },
  {
   "cell_type": "code",
   "execution_count": 4,
   "id": "de76bd60",
   "metadata": {},
   "outputs": [
    {
     "name": "stdout",
     "output_type": "stream",
     "text": [
      "x and y is False\n",
      "x or y is True\n",
      "not y is True\n",
      "not x is False\n"
     ]
    }
   ],
   "source": [
    "x=True\n",
    "y=False\n",
    "print('x and y is',x and y)\n",
    "print('x or y is',x or y)\n",
    "print('not y is',not y)\n",
    "print('not x is',not x)"
   ]
  },
  {
   "cell_type": "markdown",
   "id": "bcc47c07",
   "metadata": {},
   "source": [
    "# Strings"
   ]
  },
  {
   "cell_type": "code",
   "execution_count": 5,
   "id": "bed097b5",
   "metadata": {},
   "outputs": [
    {
     "name": "stdout",
     "output_type": "stream",
     "text": [
      "Welcome to Farahoosh\n"
     ]
    },
    {
     "data": {
      "text/plain": [
       "str"
      ]
     },
     "execution_count": 5,
     "metadata": {},
     "output_type": "execute_result"
    }
   ],
   "source": [
    "s=\"Welcome to Farahoosh\"\n",
    "print(s)\n",
    "type(s)"
   ]
  },
  {
   "cell_type": "code",
   "execution_count": 6,
   "id": "14a0c89d",
   "metadata": {},
   "outputs": [
    {
     "data": {
      "text/plain": [
       "20"
      ]
     },
     "execution_count": 6,
     "metadata": {},
     "output_type": "execute_result"
    }
   ],
   "source": [
    "len(s)"
   ]
  },
  {
   "cell_type": "code",
   "execution_count": 7,
   "id": "b9492c79",
   "metadata": {},
   "outputs": [
    {
     "data": {
      "text/plain": [
       "'t'"
      ]
     },
     "execution_count": 7,
     "metadata": {},
     "output_type": "execute_result"
    }
   ],
   "source": [
    "s[8]"
   ]
  },
  {
   "cell_type": "code",
   "execution_count": 8,
   "id": "dd33920a",
   "metadata": {},
   "outputs": [
    {
     "name": "stdout",
     "output_type": "stream",
     "text": [
      "me to\n"
     ]
    }
   ],
   "source": [
    "print(s[5:10])"
   ]
  },
  {
   "cell_type": "code",
   "execution_count": 9,
   "id": "d6323678",
   "metadata": {},
   "outputs": [
    {
     "name": "stdout",
     "output_type": "stream",
     "text": [
      "come to Farahoos\n"
     ]
    }
   ],
   "source": [
    "print(s[3:-1])"
   ]
  },
  {
   "cell_type": "code",
   "execution_count": 10,
   "id": "05ffcbc3",
   "metadata": {},
   "outputs": [
    {
     "name": "stdout",
     "output_type": "stream",
     "text": [
      "Welcome to Farahoosh Autumn Course\n"
     ]
    }
   ],
   "source": [
    "print(s+\" Autumn Course\")"
   ]
  },
  {
   "cell_type": "code",
   "execution_count": 11,
   "id": "efea887b",
   "metadata": {},
   "outputs": [
    {
     "name": "stdout",
     "output_type": "stream",
     "text": [
      "welcome to python\n"
     ]
    }
   ],
   "source": [
    "sahra=\"welcome to python\"\n",
    "print(sahra)"
   ]
  },
  {
   "cell_type": "code",
   "execution_count": 12,
   "id": "e6bad3d5",
   "metadata": {},
   "outputs": [
    {
     "name": "stdout",
     "output_type": "stream",
     "text": [
      "WELCOME TO PYTHON\n"
     ]
    }
   ],
   "source": [
    "sahra1=sahra.upper()\n",
    "print(sahra1)"
   ]
  },
  {
   "cell_type": "code",
   "execution_count": 13,
   "id": "a6898c73",
   "metadata": {},
   "outputs": [
    {
     "name": "stdout",
     "output_type": "stream",
     "text": [
      "WELCOME TO JUPITER\n"
     ]
    }
   ],
   "source": [
    "class1=\"WELCOME TO JUPITER\"\n",
    "print(class1)"
   ]
  },
  {
   "cell_type": "code",
   "execution_count": 14,
   "id": "a7108d62",
   "metadata": {},
   "outputs": [
    {
     "name": "stdout",
     "output_type": "stream",
     "text": [
      "welcome to jupiter\n"
     ]
    }
   ],
   "source": [
    "print(class1.lower())"
   ]
  },
  {
   "cell_type": "code",
   "execution_count": 15,
   "id": "2abdec33",
   "metadata": {},
   "outputs": [
    {
     "data": {
      "text/plain": [
       "3"
      ]
     },
     "execution_count": 15,
     "metadata": {},
     "output_type": "execute_result"
    }
   ],
   "source": [
    "sahra.count(\"o\")"
   ]
  },
  {
   "cell_type": "code",
   "execution_count": 16,
   "id": "75071781",
   "metadata": {},
   "outputs": [
    {
     "data": {
      "text/plain": [
       "4"
      ]
     },
     "execution_count": 16,
     "metadata": {},
     "output_type": "execute_result"
    }
   ],
   "source": [
    "sahra.find(\"o\")"
   ]
  },
  {
   "cell_type": "code",
   "execution_count": 17,
   "id": "23a08036",
   "metadata": {},
   "outputs": [
    {
     "data": {
      "text/plain": [
       "9"
      ]
     },
     "execution_count": 17,
     "metadata": {},
     "output_type": "execute_result"
    }
   ],
   "source": [
    "sahra.find(\"o\",5)"
   ]
  },
  {
   "cell_type": "code",
   "execution_count": 18,
   "id": "1a8e22e1",
   "metadata": {},
   "outputs": [
    {
     "data": {
      "text/plain": [
       "15"
      ]
     },
     "execution_count": 18,
     "metadata": {},
     "output_type": "execute_result"
    }
   ],
   "source": [
    "sahra.find(\"o\",10)"
   ]
  },
  {
   "cell_type": "code",
   "execution_count": 19,
   "id": "1b72ead7",
   "metadata": {},
   "outputs": [
    {
     "name": "stdout",
     "output_type": "stream",
     "text": [
      "I love python\n"
     ]
    }
   ],
   "source": [
    "oldstring = \"I like python\"\n",
    "\n",
    "newstring = oldstring.replace(\"like\",\"love\")\n",
    "\n",
    "print(newstring)"
   ]
  },
  {
   "cell_type": "markdown",
   "id": "24ef2d0a",
   "metadata": {},
   "source": [
    "# List"
   ]
  },
  {
   "cell_type": "code",
   "execution_count": 20,
   "id": "9abd8b96",
   "metadata": {},
   "outputs": [
    {
     "name": "stdout",
     "output_type": "stream",
     "text": [
      "['python', 'c++', 12, True, 'False', 3.14, '4.12']\n"
     ]
    },
    {
     "data": {
      "text/plain": [
       "list"
      ]
     },
     "execution_count": 20,
     "metadata": {},
     "output_type": "execute_result"
    }
   ],
   "source": [
    "s=[\"python\",'c++',12,True,\"False\",3.14,\"4.12\"]\n",
    "print(s)\n",
    "type(s)"
   ]
  },
  {
   "cell_type": "code",
   "execution_count": 21,
   "id": "274d6f27",
   "metadata": {},
   "outputs": [
    {
     "data": {
      "text/plain": [
       "[True, 'False', 3.14, '4.12']"
      ]
     },
     "execution_count": 21,
     "metadata": {},
     "output_type": "execute_result"
    }
   ],
   "source": [
    "s[3:7]"
   ]
  },
  {
   "cell_type": "code",
   "execution_count": 22,
   "id": "d57798fa",
   "metadata": {},
   "outputs": [
    {
     "data": {
      "text/plain": [
       "7"
      ]
     },
     "execution_count": 22,
     "metadata": {},
     "output_type": "execute_result"
    }
   ],
   "source": [
    "len(s)"
   ]
  },
  {
   "cell_type": "code",
   "execution_count": 23,
   "id": "923421de",
   "metadata": {},
   "outputs": [
    {
     "data": {
      "text/plain": [
       "['tehran', 'False']"
      ]
     },
     "execution_count": 23,
     "metadata": {},
     "output_type": "execute_result"
    }
   ],
   "source": [
    "s=[\"python\",'c++',\"12\",[\"tehran\",\"False\"],3.14,\"4.12\",\"#\"]\n",
    "\n",
    "s[3]"
   ]
  },
  {
   "cell_type": "code",
   "execution_count": 24,
   "id": "52751db4",
   "metadata": {},
   "outputs": [
    {
     "data": {
      "text/plain": [
       "'tehran'"
      ]
     },
     "execution_count": 24,
     "metadata": {},
     "output_type": "execute_result"
    }
   ],
   "source": [
    "s[3][0]"
   ]
  },
  {
   "cell_type": "code",
   "execution_count": 25,
   "id": "f29a8b45",
   "metadata": {},
   "outputs": [
    {
     "data": {
      "text/plain": [
       "'a'"
      ]
     },
     "execution_count": 25,
     "metadata": {},
     "output_type": "execute_result"
    }
   ],
   "source": [
    "s[3][0][4]"
   ]
  },
  {
   "cell_type": "code",
   "execution_count": 26,
   "id": "c75e7b76",
   "metadata": {},
   "outputs": [
    {
     "data": {
      "text/plain": [
       "1"
      ]
     },
     "execution_count": 26,
     "metadata": {},
     "output_type": "execute_result"
    }
   ],
   "source": [
    "lessons=[\"math\",\"physics\",\"arabic\"]\n",
    "lessons.index(\"physics\")"
   ]
  },
  {
   "cell_type": "code",
   "execution_count": 27,
   "id": "a97f14d2",
   "metadata": {},
   "outputs": [
    {
     "name": "stdout",
     "output_type": "stream",
     "text": [
      "['math', 'physics', 'arabic', 'algebra']\n"
     ]
    }
   ],
   "source": [
    "lessons=[\"math\",\"physics\",\"arabic\"]\n",
    "lessons.append(\"algebra\")\n",
    "print(lessons)"
   ]
  },
  {
   "cell_type": "code",
   "execution_count": 28,
   "id": "bcdb9bb8",
   "metadata": {},
   "outputs": [
    {
     "data": {
      "text/plain": [
       "['math', 'physics', 'algebra']"
      ]
     },
     "execution_count": 28,
     "metadata": {},
     "output_type": "execute_result"
    }
   ],
   "source": [
    "lessons.remove(\"arabic\")\n",
    "lessons"
   ]
  },
  {
   "cell_type": "code",
   "execution_count": 29,
   "id": "41dd8740",
   "metadata": {},
   "outputs": [
    {
     "data": {
      "text/plain": [
       "['math', 'physics', 'algebra', 'chemistry', 'English']"
      ]
     },
     "execution_count": 29,
     "metadata": {},
     "output_type": "execute_result"
    }
   ],
   "source": [
    "lessons.extend([\"chemistry\",\"English\"])\n",
    "lessons"
   ]
  },
  {
   "cell_type": "code",
   "execution_count": 30,
   "id": "d5f16ec0",
   "metadata": {},
   "outputs": [
    {
     "data": {
      "text/plain": [
       "['math', 'physics', 'algebra', 'chemistry', 'farsi', 'English']"
      ]
     },
     "execution_count": 30,
     "metadata": {},
     "output_type": "execute_result"
    }
   ],
   "source": [
    "lessons.insert(4,\"farsi\")\n",
    "lessons"
   ]
  },
  {
   "cell_type": "code",
   "execution_count": 31,
   "id": "3ae65f9d",
   "metadata": {},
   "outputs": [
    {
     "data": {
      "text/plain": [
       "[1, 5, 2, 0, 3]"
      ]
     },
     "execution_count": 31,
     "metadata": {},
     "output_type": "execute_result"
    }
   ],
   "source": [
    "number=[1,5,2,0,3]\n",
    "number"
   ]
  },
  {
   "cell_type": "code",
   "execution_count": 32,
   "id": "6ac8788c",
   "metadata": {},
   "outputs": [
    {
     "data": {
      "text/plain": [
       "[5, 3, 2, 1, 0]"
      ]
     },
     "execution_count": 32,
     "metadata": {},
     "output_type": "execute_result"
    }
   ],
   "source": [
    "number.sort(reverse=True)\n",
    "number"
   ]
  },
  {
   "cell_type": "code",
   "execution_count": 33,
   "id": "9a546adb",
   "metadata": {},
   "outputs": [
    {
     "data": {
      "text/plain": [
       "['G', 'a', 'b', 'c', 'd']"
      ]
     },
     "execution_count": 33,
     "metadata": {},
     "output_type": "execute_result"
    }
   ],
   "source": [
    "charachters=[\"d\",\"a\",\"c\",\"b\",\"G\"]\n",
    "charachters.sort()\n",
    "charachters"
   ]
  },
  {
   "cell_type": "markdown",
   "id": "b2d73ccc",
   "metadata": {},
   "source": [
    "# Tuples"
   ]
  },
  {
   "cell_type": "code",
   "execution_count": 34,
   "id": "ee7ad082",
   "metadata": {},
   "outputs": [
    {
     "name": "stdout",
     "output_type": "stream",
     "text": [
      "<class 'tuple'>\n",
      "('b', 'a', '134', '34!', 34, True, 19.65)\n"
     ]
    }
   ],
   "source": [
    "t1=(\"b\",\"a\",\"134\",\"34!\",34,True,19.65)\n",
    "print(type(t1))\n",
    "print(t1)"
   ]
  },
  {
   "cell_type": "code",
   "execution_count": 35,
   "id": "dec4bfc3",
   "metadata": {},
   "outputs": [
    {
     "name": "stdout",
     "output_type": "stream",
     "text": [
      "34\n"
     ]
    }
   ],
   "source": [
    "print(t1[4])"
   ]
  },
  {
   "cell_type": "code",
   "execution_count": 36,
   "id": "b0621b7b",
   "metadata": {},
   "outputs": [
    {
     "data": {
      "text/plain": [
       "('a', '134', '34!', 34, True)"
      ]
     },
     "execution_count": 36,
     "metadata": {},
     "output_type": "execute_result"
    }
   ],
   "source": [
    "t1[1:6]"
   ]
  },
  {
   "cell_type": "code",
   "execution_count": 37,
   "id": "426dc645",
   "metadata": {},
   "outputs": [
    {
     "data": {
      "text/plain": [
       "int"
      ]
     },
     "execution_count": 37,
     "metadata": {},
     "output_type": "execute_result"
    }
   ],
   "source": [
    "t2=(30)\n",
    "type(t2)"
   ]
  },
  {
   "cell_type": "code",
   "execution_count": 38,
   "id": "25c0f5c2",
   "metadata": {},
   "outputs": [
    {
     "data": {
      "text/plain": [
       "tuple"
      ]
     },
     "execution_count": 38,
     "metadata": {},
     "output_type": "execute_result"
    }
   ],
   "source": [
    "t3=30,\n",
    "type(t3)"
   ]
  },
  {
   "cell_type": "code",
   "execution_count": 39,
   "id": "f4085654",
   "metadata": {},
   "outputs": [
    {
     "name": "stdout",
     "output_type": "stream",
     "text": [
      "['b', 'a', '134', '34!', 34, True, 19.65]\n"
     ]
    }
   ],
   "source": [
    "t=[\"b\",\"a\",\"134\",\"34!\",34,True,19.65]    # مقایسه با لیست\n",
    "\n",
    "print(t)"
   ]
  },
  {
   "cell_type": "code",
   "execution_count": 40,
   "id": "7aa5630e",
   "metadata": {},
   "outputs": [
    {
     "data": {
      "text/plain": [
       "['b', 'a', '134', '34!', 55, True, 19.65]"
      ]
     },
     "execution_count": 40,
     "metadata": {},
     "output_type": "execute_result"
    }
   ],
   "source": [
    "t[4]=55\n",
    "t"
   ]
  },
  {
   "cell_type": "code",
   "execution_count": 41,
   "id": "6047db4a",
   "metadata": {},
   "outputs": [
    {
     "name": "stdout",
     "output_type": "stream",
     "text": [
      "('b', 'a', 'a', '134', '34!', 34, True, 19.65)\n"
     ]
    }
   ],
   "source": [
    "t1=(\"b\",\"a\",\"a\",\"134\",\"34!\",34,True,19.65)\n",
    "\n",
    "print(t1)"
   ]
  },
  {
   "cell_type": "code",
   "execution_count": 42,
   "id": "b035e9de",
   "metadata": {},
   "outputs": [
    {
     "ename": "TypeError",
     "evalue": "'tuple' object does not support item assignment",
     "output_type": "error",
     "traceback": [
      "\u001b[1;31m---------------------------------------------------------------------------\u001b[0m",
      "\u001b[1;31mTypeError\u001b[0m                                 Traceback (most recent call last)",
      "\u001b[1;32m~\\AppData\\Local\\Temp\\ipykernel_1472\\484654280.py\u001b[0m in \u001b[0;36m<module>\u001b[1;34m\u001b[0m\n\u001b[1;32m----> 1\u001b[1;33m \u001b[0mt1\u001b[0m\u001b[1;33m[\u001b[0m\u001b[1;36m4\u001b[0m\u001b[1;33m]\u001b[0m\u001b[1;33m=\u001b[0m\u001b[1;36m55\u001b[0m       \u001b[1;31m# در تاپل خاصیت جایگذاری وجود ندارد\u001b[0m\u001b[1;33m\u001b[0m\u001b[1;33m\u001b[0m\u001b[0m\n\u001b[0m\u001b[0;32m      2\u001b[0m \u001b[0mt1\u001b[0m\u001b[1;33m\u001b[0m\u001b[1;33m\u001b[0m\u001b[0m\n",
      "\u001b[1;31mTypeError\u001b[0m: 'tuple' object does not support item assignment"
     ]
    }
   ],
   "source": [
    "t1[4]=55       # در تاپل خاصیت جایگذاری وجود ندارد\n",
    "t1"
   ]
  },
  {
   "cell_type": "code",
   "execution_count": 43,
   "id": "d6021a52",
   "metadata": {},
   "outputs": [
    {
     "data": {
      "text/plain": [
       "(550, 'b', 'a', 'a', '134', '34!', 34, True, 19.65)"
      ]
     },
     "execution_count": 43,
     "metadata": {},
     "output_type": "execute_result"
    }
   ],
   "source": [
    "total=(550,)+t1[0:]\n",
    "total\n"
   ]
  },
  {
   "cell_type": "code",
   "execution_count": 44,
   "id": "84669798",
   "metadata": {},
   "outputs": [
    {
     "data": {
      "text/plain": [
       "2"
      ]
     },
     "execution_count": 44,
     "metadata": {},
     "output_type": "execute_result"
    }
   ],
   "source": [
    "t1.count(\"a\")"
   ]
  },
  {
   "cell_type": "markdown",
   "id": "6652996b",
   "metadata": {},
   "source": [
    "# Dictionary"
   ]
  },
  {
   "cell_type": "code",
   "execution_count": 45,
   "id": "498ef909",
   "metadata": {},
   "outputs": [
    {
     "name": "stdout",
     "output_type": "stream",
     "text": [
      "{'one': 1, 'two': 2, 'three': 3}\n",
      "<class 'dict'>\n"
     ]
    }
   ],
   "source": [
    "item={\"one\":1,\"two\":2,\"three\":3}\n",
    "print(item)\n",
    "print(type(item))"
   ]
  },
  {
   "cell_type": "code",
   "execution_count": 46,
   "id": "7a896ff9",
   "metadata": {},
   "outputs": [
    {
     "data": {
      "text/plain": [
       "1"
      ]
     },
     "execution_count": 46,
     "metadata": {},
     "output_type": "execute_result"
    }
   ],
   "source": [
    "item[\"one\"]"
   ]
  },
  {
   "cell_type": "code",
   "execution_count": 47,
   "id": "62a9796b",
   "metadata": {},
   "outputs": [
    {
     "data": {
      "text/plain": [
       "3"
      ]
     },
     "execution_count": 47,
     "metadata": {},
     "output_type": "execute_result"
    }
   ],
   "source": [
    "item[\"three\"]"
   ]
  },
  {
   "cell_type": "code",
   "execution_count": 48,
   "id": "fbfddec3",
   "metadata": {},
   "outputs": [
    {
     "data": {
      "text/plain": [
       "{'one': 'first', 'two': 2, 'three': 3}"
      ]
     },
     "execution_count": 48,
     "metadata": {},
     "output_type": "execute_result"
    }
   ],
   "source": [
    "item[\"one\"]=\"first\"\n",
    "item"
   ]
  },
  {
   "cell_type": "code",
   "execution_count": 49,
   "id": "cef3e10e",
   "metadata": {},
   "outputs": [
    {
     "name": "stdout",
     "output_type": "stream",
     "text": [
      "{(1, 2): 's1', (3, 6): '67', 'f': 11, 51: 13}\n",
      "<class 'dict'>\n"
     ]
    }
   ],
   "source": [
    "item2={(1,2):\"s1\",(3,6):\"67\",\"f\":11,51:13}\n",
    "print(item2)\n",
    "print(type(item2))"
   ]
  },
  {
   "cell_type": "code",
   "execution_count": 50,
   "id": "ce8948ab",
   "metadata": {},
   "outputs": [
    {
     "data": {
      "text/plain": [
       "'s1'"
      ]
     },
     "execution_count": 50,
     "metadata": {},
     "output_type": "execute_result"
    }
   ],
   "source": [
    "item2[(1,2)]"
   ]
  },
  {
   "cell_type": "code",
   "execution_count": 51,
   "id": "3471bb97",
   "metadata": {},
   "outputs": [
    {
     "name": "stdout",
     "output_type": "stream",
     "text": [
      "{'first': 'bahar', 'second': 'tabestan', 'third': 'paeeiz', 'forth': 'zemestan'}\n"
     ]
    },
    {
     "data": {
      "text/plain": [
       "dict"
      ]
     },
     "execution_count": 51,
     "metadata": {},
     "output_type": "execute_result"
    }
   ],
   "source": [
    "seasons={\"first\":\"bahar\",\"second\":\"tabestan\",\"third\":\"paeeiz\",\"forth\":\"zemestan\"}\n",
    "print(seasons)\n",
    "type(seasons)"
   ]
  },
  {
   "cell_type": "code",
   "execution_count": 52,
   "id": "c508c631",
   "metadata": {},
   "outputs": [
    {
     "name": "stdout",
     "output_type": "stream",
     "text": [
      "{}\n"
     ]
    }
   ],
   "source": [
    "seasons.clear()\n",
    "print(seasons)"
   ]
  },
  {
   "cell_type": "code",
   "execution_count": 53,
   "id": "f6086ce7",
   "metadata": {},
   "outputs": [
    {
     "name": "stdout",
     "output_type": "stream",
     "text": [
      "{'first': 'bahar', 'second': 'tabestan', 'third': 'paeeiz', 'forth': 'zemestan'}\n"
     ]
    }
   ],
   "source": [
    "seasons={\"first\":\"bahar\",\"second\":\"tabestan\",\"third\":\"paeeiz\",\"forth\":\"zemestan\"}\n",
    "print(seasons)"
   ]
  },
  {
   "cell_type": "code",
   "execution_count": 54,
   "id": "287719ba",
   "metadata": {},
   "outputs": [
    {
     "data": {
      "text/plain": [
       "dict_keys(['first', 'second', 'third', 'forth'])"
      ]
     },
     "execution_count": 54,
     "metadata": {},
     "output_type": "execute_result"
    }
   ],
   "source": [
    "seasons.keys()"
   ]
  },
  {
   "cell_type": "code",
   "execution_count": 55,
   "id": "b2448912",
   "metadata": {},
   "outputs": [
    {
     "data": {
      "text/plain": [
       "dict_values(['bahar', 'tabestan', 'paeeiz', 'zemestan'])"
      ]
     },
     "execution_count": 55,
     "metadata": {},
     "output_type": "execute_result"
    }
   ],
   "source": [
    "seasons.values()"
   ]
  },
  {
   "cell_type": "code",
   "execution_count": 56,
   "id": "1d119a68",
   "metadata": {},
   "outputs": [
    {
     "data": {
      "text/plain": [
       "{1: 'farvardin',\n",
       " 2: 'ordibehesht',\n",
       " 3: 'khordad',\n",
       " 4: 'tir',\n",
       " 5: 'mordad',\n",
       " 6: 'shahrivar'}"
      ]
     },
     "execution_count": 56,
     "metadata": {},
     "output_type": "execute_result"
    }
   ],
   "source": [
    "month={1:\"farvardin\",2:\"ordibehesht\",3:\"khordad\",4:\"tir\",5:\"mordad\",6:\"shahrivar\"}\n",
    "month"
   ]
  },
  {
   "cell_type": "code",
   "execution_count": 57,
   "id": "66d0fdbb",
   "metadata": {},
   "outputs": [
    {
     "data": {
      "text/plain": [
       "{'first': 'bahar',\n",
       " 'second': 'tabestan',\n",
       " 'third': 'paeeiz',\n",
       " 'forth': 'zemestan',\n",
       " 1: 'farvardin',\n",
       " 2: 'ordibehesht',\n",
       " 3: 'khordad',\n",
       " 4: 'tir',\n",
       " 5: 'mordad',\n",
       " 6: 'shahrivar'}"
      ]
     },
     "execution_count": 57,
     "metadata": {},
     "output_type": "execute_result"
    }
   ],
   "source": [
    "\n",
    "#اضافه کردن کلیدها و مقادیر دیکشنری دوم به دیکشنری اولی\n",
    "seasons.update(month)\n",
    "seasons"
   ]
  },
  {
   "cell_type": "markdown",
   "id": "fffcbf93",
   "metadata": {},
   "source": [
    "# Sets"
   ]
  },
  {
   "cell_type": "code",
   "execution_count": 58,
   "id": "87c77177",
   "metadata": {},
   "outputs": [
    {
     "name": "stdout",
     "output_type": "stream",
     "text": [
      "{'java', 'c++', 'python', 'asp.net', 'csharp'}\n"
     ]
    },
    {
     "data": {
      "text/plain": [
       "set"
      ]
     },
     "execution_count": 58,
     "metadata": {},
     "output_type": "execute_result"
    }
   ],
   "source": [
    "program={\"csharp\",\"c++\",\"asp.net\",\"java\",\"python\"}\n",
    "print(program)\n",
    "type(program)\n"
   ]
  },
  {
   "cell_type": "code",
   "execution_count": 59,
   "id": "890f7b27",
   "metadata": {},
   "outputs": [
    {
     "data": {
      "text/plain": [
       "{'asp.net', 'c++', 'csharp', 'java', 'open cv', 'python'}"
      ]
     },
     "execution_count": 59,
     "metadata": {},
     "output_type": "execute_result"
    }
   ],
   "source": [
    "#اضافه کردن داده x\n",
    "\n",
    "program.add(\"open cv\")\n",
    "program"
   ]
  },
  {
   "cell_type": "code",
   "execution_count": 60,
   "id": "3964bf75",
   "metadata": {},
   "outputs": [
    {
     "data": {
      "text/plain": [
       "{'asp.net', 'c++', 'csharp', 'open cv', 'python'}"
      ]
     },
     "execution_count": 60,
     "metadata": {},
     "output_type": "execute_result"
    }
   ],
   "source": [
    "#حذف داده x\n",
    "\n",
    "program.remove(\"java\")\n",
    "program"
   ]
  },
  {
   "cell_type": "code",
   "execution_count": 61,
   "id": "80f84e26",
   "metadata": {},
   "outputs": [
    {
     "ename": "KeyError",
     "evalue": "'Java'",
     "output_type": "error",
     "traceback": [
      "\u001b[1;31m---------------------------------------------------------------------------\u001b[0m",
      "\u001b[1;31mKeyError\u001b[0m                                  Traceback (most recent call last)",
      "\u001b[1;32m~\\AppData\\Local\\Temp\\ipykernel_1472\\2365259208.py\u001b[0m in \u001b[0;36m<module>\u001b[1;34m\u001b[0m\n\u001b[1;32m----> 1\u001b[1;33m \u001b[0mprogram\u001b[0m\u001b[1;33m.\u001b[0m\u001b[0mremove\u001b[0m\u001b[1;33m(\u001b[0m\u001b[1;34m\"Java\"\u001b[0m\u001b[1;33m)\u001b[0m\u001b[1;33m\u001b[0m\u001b[1;33m\u001b[0m\u001b[0m\n\u001b[0m\u001b[0;32m      2\u001b[0m \u001b[0mprogram\u001b[0m\u001b[1;33m\u001b[0m\u001b[1;33m\u001b[0m\u001b[0m\n",
      "\u001b[1;31mKeyError\u001b[0m: 'Java'"
     ]
    }
   ],
   "source": [
    "program.remove(\"Java\")\n",
    "program"
   ]
  },
  {
   "cell_type": "code",
   "execution_count": 62,
   "id": "66e76567",
   "metadata": {},
   "outputs": [
    {
     "data": {
      "text/plain": [
       "{'asp.net', 'c++', 'csharp', 'open cv', 'python'}"
      ]
     },
     "execution_count": 62,
     "metadata": {},
     "output_type": "execute_result"
    }
   ],
   "source": [
    "program.discard(\"Java\")\n",
    "program"
   ]
  },
  {
   "cell_type": "code",
   "execution_count": 63,
   "id": "a738ed10",
   "metadata": {},
   "outputs": [
    {
     "data": {
      "text/plain": [
       "{'asp.net', 'c+', 'c++', 'csharp', 'open cv', 'python', 'vb.net'}"
      ]
     },
     "execution_count": 63,
     "metadata": {},
     "output_type": "execute_result"
    }
   ],
   "source": [
    "program.update({\"c+\",\"vb.net\"})\n",
    "program"
   ]
  },
  {
   "cell_type": "code",
   "execution_count": 64,
   "id": "8b4433e7",
   "metadata": {},
   "outputs": [
    {
     "name": "stdout",
     "output_type": "stream",
     "text": [
      "{'mehr', 'aban', 'azar'}\n",
      "{'dey', 'aban', 'bahman'}\n",
      "{'tir', 'mordad', 'shahrivar'}\n",
      "{'tir', 'mordad'}\n"
     ]
    }
   ],
   "source": [
    "month1={\"mehr\",\"aban\",\"azar\"}\n",
    "month2={\"aban\",\"dey\",\"bahman\"}\n",
    "month3={\"tir\",\"mordad\",\"shahrivar\"}\n",
    "month4={\"tir\",\"mordad\"}\n",
    "print(month1)\n",
    "print(month2)\n",
    "print(month3)\n",
    "print(month4)"
   ]
  },
  {
   "cell_type": "code",
   "execution_count": 65,
   "id": "1eefe15a",
   "metadata": {},
   "outputs": [
    {
     "name": "stdout",
     "output_type": "stream",
     "text": [
      "{'mehr', 'dey', 'aban', 'bahman', 'azar'}\n"
     ]
    }
   ],
   "source": [
    "#بررسی اجتماع دو مجموعه\n",
    "\n",
    "month5=month1.union(month2)\n",
    "print(month5)"
   ]
  },
  {
   "cell_type": "code",
   "execution_count": 66,
   "id": "b363f77f",
   "metadata": {},
   "outputs": [
    {
     "name": "stdout",
     "output_type": "stream",
     "text": [
      "{'mehr', 'dey', 'aban', 'bahman', 'azar'}\n"
     ]
    }
   ],
   "source": [
    "print(month1 | month2)  "
   ]
  },
  {
   "cell_type": "code",
   "execution_count": 67,
   "id": "542c5fff",
   "metadata": {},
   "outputs": [
    {
     "name": "stdout",
     "output_type": "stream",
     "text": [
      "{'tir', 'mordad'}\n"
     ]
    }
   ],
   "source": [
    "#بررسی اشتراک دو مجموعه\n",
    "\n",
    "month7=month3.intersection(month4)\n",
    "print(month7)"
   ]
  },
  {
   "cell_type": "code",
   "execution_count": 68,
   "id": "102edec0",
   "metadata": {},
   "outputs": [
    {
     "name": "stdout",
     "output_type": "stream",
     "text": [
      "{'tir', 'mordad'}\n"
     ]
    }
   ],
   "source": [
    "print( month3 & month4 )\n"
   ]
  },
  {
   "cell_type": "code",
   "execution_count": 69,
   "id": "022548e7",
   "metadata": {},
   "outputs": [
    {
     "name": "stdout",
     "output_type": "stream",
     "text": [
      "{'shahrivar'}\n"
     ]
    }
   ],
   "source": [
    "#بررسی تفاضل دو مجموعه\n",
    "\n",
    "month9=month3.difference(month4)\n",
    "print(month9)"
   ]
  },
  {
   "cell_type": "code",
   "execution_count": 70,
   "id": "de8d33bd",
   "metadata": {},
   "outputs": [
    {
     "name": "stdout",
     "output_type": "stream",
     "text": [
      "{'shahrivar'}\n"
     ]
    }
   ],
   "source": [
    "print(month3-month4 )\n"
   ]
  },
  {
   "cell_type": "code",
   "execution_count": 71,
   "id": "ddc887ab",
   "metadata": {},
   "outputs": [
    {
     "name": "stdout",
     "output_type": "stream",
     "text": [
      "set()\n"
     ]
    }
   ],
   "source": [
    "month10=month4.difference(month3)\n",
    "print(month10)"
   ]
  },
  {
   "cell_type": "markdown",
   "id": "c8743acb",
   "metadata": {},
   "source": [
    "# Session 2:"
   ]
  },
  {
   "cell_type": "markdown",
   "id": "9f4cb9af",
   "metadata": {},
   "source": [
    "\n",
    "# Conditional Statements"
   ]
  },
  {
   "cell_type": "markdown",
   "id": "b2c758c3",
   "metadata": {},
   "source": [
    "\n",
    "if (condition):\n",
    "    statements1\n",
    "    statements2"
   ]
  },
  {
   "cell_type": "code",
   "execution_count": 72,
   "id": "f4dabf18",
   "metadata": {},
   "outputs": [
    {
     "name": "stdout",
     "output_type": "stream",
     "text": [
      "True\n"
     ]
    }
   ],
   "source": [
    "if 3<5:\n",
    "    print('True')"
   ]
  },
  {
   "cell_type": "code",
   "execution_count": 73,
   "id": "3f02a1b4",
   "metadata": {},
   "outputs": [
    {
     "name": "stdout",
     "output_type": "stream",
     "text": [
      "the number is mosbat\n",
      "Exit\n"
     ]
    }
   ],
   "source": [
    "num=20\n",
    "if num>=0:\n",
    "    print(\"the number is mosbat\")\n",
    "print(\"Exit\")  "
   ]
  },
  {
   "cell_type": "code",
   "execution_count": 74,
   "id": "8f39f3df",
   "metadata": {},
   "outputs": [
    {
     "name": "stdout",
     "output_type": "stream",
     "text": [
      "Exit\n"
     ]
    }
   ],
   "source": [
    "num=-30\n",
    "if num>=0:\n",
    "    print(\"the number is mosbat\")\n",
    "print(\"Exit\")"
   ]
  },
  {
   "cell_type": "code",
   "execution_count": 75,
   "id": "15c85954",
   "metadata": {},
   "outputs": [
    {
     "name": "stdout",
     "output_type": "stream",
     "text": [
      "manfi\n",
      "done\n"
     ]
    }
   ],
   "source": [
    "num=-15\n",
    "if num>=0:\n",
    "    print(\"mosbat\")\n",
    "if num<0:\n",
    "    print(\"manfi\")\n",
    "print(\"done\")"
   ]
  },
  {
   "cell_type": "code",
   "execution_count": 76,
   "id": "97c6e7e0",
   "metadata": {},
   "outputs": [
    {
     "name": "stdout",
     "output_type": "stream",
     "text": [
      "zero\n",
      "done\n"
     ]
    }
   ],
   "source": [
    "num=0\n",
    "if num>0:\n",
    "    print(\"mosbat\")\n",
    "if num<0:\n",
    "    print(\"manfi\")\n",
    "if num==0:\n",
    "    print(\"zero\")\n",
    "print(\"done\")"
   ]
  },
  {
   "cell_type": "code",
   "execution_count": 77,
   "id": "5e039567",
   "metadata": {},
   "outputs": [
    {
     "name": "stdout",
     "output_type": "stream",
     "text": [
      "Odd\n",
      "Done\n"
     ]
    }
   ],
   "source": [
    "num=4321\n",
    "if num%2==0:\n",
    "    print(\"even\")\n",
    "if num%2!=0:\n",
    "    print(\"Odd\")\n",
    "    \n",
    "print(\"Done\")"
   ]
  },
  {
   "cell_type": "code",
   "execution_count": 78,
   "id": "e90bb1e6",
   "metadata": {},
   "outputs": [
    {
     "name": "stdout",
     "output_type": "stream",
     "text": [
      "Exit\n"
     ]
    }
   ],
   "source": [
    "num=62\n",
    "if num%2==0:\n",
    "    if num%3==0:\n",
    "        print(num)\n",
    "print(\"Exit\")"
   ]
  },
  {
   "cell_type": "code",
   "execution_count": 79,
   "id": "d6b1c510",
   "metadata": {},
   "outputs": [
    {
     "name": "stdout",
     "output_type": "stream",
     "text": [
      "Odd\n",
      "Done\n"
     ]
    }
   ],
   "source": [
    "num=661\n",
    "if num%2==0:\n",
    "    print(\"even\")\n",
    "else:\n",
    "    print(\"Odd\")\n",
    "    \n",
    "print(\"Done\")"
   ]
  },
  {
   "cell_type": "code",
   "execution_count": 80,
   "id": "ff3094f5",
   "metadata": {},
   "outputs": [
    {
     "name": "stdout",
     "output_type": "stream",
     "text": [
      "97\n",
      "Exit\n"
     ]
    }
   ],
   "source": [
    "num=98\n",
    "if num<=100:\n",
    "    if num%2==0:\n",
    "        if num%3==0:\n",
    "            print(num)\n",
    "        else:\n",
    "            print(num-1)\n",
    "elif 100<num<200:\n",
    "    print(num)\n",
    "else:\n",
    "    print(\"the number is out of range\")\n",
    "\n",
    "print(\"Exit\")"
   ]
  },
  {
   "cell_type": "markdown",
   "id": "6698e885",
   "metadata": {},
   "source": [
    "# Loops"
   ]
  },
  {
   "cell_type": "code",
   "execution_count": 81,
   "id": "6fe77a0f",
   "metadata": {},
   "outputs": [
    {
     "name": "stdout",
     "output_type": "stream",
     "text": [
      "1\n",
      "2\n",
      "3\n",
      "4\n"
     ]
    }
   ],
   "source": [
    "i = 1\n",
    "while i<5:\n",
    "    print(i)\n",
    "    i=i+1\n",
    "   \n",
    "  \n"
   ]
  },
  {
   "cell_type": "code",
   "execution_count": 82,
   "id": "dd4fb556",
   "metadata": {},
   "outputs": [
    {
     "name": "stdout",
     "output_type": "stream",
     "text": [
      "10\n",
      "9\n",
      "8\n",
      "7\n",
      "6\n",
      "5\n",
      "4\n",
      "3\n",
      "2\n",
      "1\n",
      "Good bye\n"
     ]
    }
   ],
   "source": [
    "num=10\n",
    "while num>0:\n",
    "    print(num)\n",
    "    num=num-1\n",
    "print(\"Good bye\")"
   ]
  },
  {
   "cell_type": "code",
   "execution_count": 83,
   "id": "c7210d17",
   "metadata": {},
   "outputs": [
    {
     "name": "stdout",
     "output_type": "stream",
     "text": [
      "3.0\n"
     ]
    }
   ],
   "source": [
    "#تمرین\n",
    "\n",
    "x=6\n",
    "while x%2==0:\n",
    "    print(x/2)\n",
    "    x=x+1"
   ]
  },
  {
   "cell_type": "code",
   "execution_count": 84,
   "id": "9d9b8c95",
   "metadata": {},
   "outputs": [
    {
     "ename": "SyntaxError",
     "evalue": "unexpected EOF while parsing (2886943728.py, line 2)",
     "output_type": "error",
     "traceback": [
      "\u001b[1;36m  File \u001b[1;32m\"C:\\Users\\2020\\AppData\\Local\\Temp\\ipykernel_1472\\2886943728.py\"\u001b[1;36m, line \u001b[1;32m2\u001b[0m\n\u001b[1;33m    #execution and use of Value\u001b[0m\n\u001b[1;37m                               ^\u001b[0m\n\u001b[1;31mSyntaxError\u001b[0m\u001b[1;31m:\u001b[0m unexpected EOF while parsing\n"
     ]
    }
   ],
   "source": [
    "for Value in Sequence:\n",
    "    #execution and use of Value"
   ]
  },
  {
   "cell_type": "code",
   "execution_count": 85,
   "id": "bd829bb3",
   "metadata": {},
   "outputs": [
    {
     "name": "stdout",
     "output_type": "stream",
     "text": [
      "Hello Nazanin!\n",
      "Hello Mehran!\n",
      "Hello Omid!\n",
      "Hello Melisa!\n",
      "Hello sina!\n"
     ]
    }
   ],
   "source": [
    "names = [\"Nazanin\", \"Mehran\", \"Omid\", \"Melisa\", \"sina\"]\n",
    "for x in names:\n",
    "    print(\"Hello \" + x + \"!\")"
   ]
  },
  {
   "cell_type": "code",
   "execution_count": 86,
   "id": "7268d3b0",
   "metadata": {},
   "outputs": [
    {
     "name": "stdout",
     "output_type": "stream",
     "text": [
      "A\n",
      "m\n",
      "o\n",
      "o\n",
      "z\n",
      "e\n",
      "s\n",
      "h\n",
      "N\n",
      "o\n",
      "v\n",
      "i\n",
      "n\n"
     ]
    }
   ],
   "source": [
    "st1=\"Amoozesh\"\n",
    "st2=\"Novin\"\n",
    "st3=st1+st2\n",
    "for char in st3:\n",
    "    print(char)"
   ]
  },
  {
   "cell_type": "markdown",
   "id": "7efa9005",
   "metadata": {},
   "source": [
    "# Functions(توابع)"
   ]
  },
  {
   "cell_type": "code",
   "execution_count": 87,
   "id": "a7a4ca04",
   "metadata": {},
   "outputs": [
    {
     "name": "stdout",
     "output_type": "stream",
     "text": [
      "\n",
      "    By:sahra najaflou\n",
      "    instgram id: sahra.farahoosh\n",
      "    my email: najaflou.s66@gmail.com\n"
     ]
    }
   ],
   "source": [
    "def rezume():#نام تابع\n",
    "    print(\"\"\"\n",
    "    By:sahra najaflou\n",
    "    instgram id: sahra.farahoosh\n",
    "    my email: najaflou.s66@gmail.com\"\"\")\n",
    "rezume()\n"
   ]
  },
  {
   "cell_type": "code",
   "execution_count": 88,
   "id": "8c8e19ad",
   "metadata": {},
   "outputs": [
    {
     "name": "stdout",
     "output_type": "stream",
     "text": [
      "125\n"
     ]
    }
   ],
   "source": [
    "#تابعی بنویسید که هر عددی بهش بدهیم آن را به توان 3 برساند\n",
    "\n",
    "def Tavan(x):# x ورودی هستش که تابع میگیره \n",
    "    print(x**3)\n",
    "Tavan(5)"
   ]
  },
  {
   "cell_type": "code",
   "execution_count": 89,
   "id": "108e2cc9",
   "metadata": {},
   "outputs": [
    {
     "data": {
      "text/plain": [
       "6"
      ]
     },
     "execution_count": 89,
     "metadata": {},
     "output_type": "execute_result"
    }
   ],
   "source": [
    "def zarb(x):\n",
    "    return x*3\n",
    "\n",
    "zarb(2)\n"
   ]
  },
  {
   "cell_type": "code",
   "execution_count": 90,
   "id": "6d4af84f",
   "metadata": {},
   "outputs": [
    {
     "data": {
      "text/plain": [
       "16"
      ]
     },
     "execution_count": 90,
     "metadata": {},
     "output_type": "execute_result"
    }
   ],
   "source": [
    "  #moadele daraje 1 #تمرین\n",
    "def moadele(a,x,b):\n",
    "    return(a*x+b)\n",
    "\n",
    "moadele(2,4,8)\n"
   ]
  },
  {
   "cell_type": "code",
   "execution_count": 91,
   "id": "09b1dd12",
   "metadata": {},
   "outputs": [],
   "source": [
    "def value(num):\n",
    "    if num >= 0:\n",
    "        return num\n",
    "    else:\n",
    "        return -num"
   ]
  },
  {
   "cell_type": "code",
   "execution_count": 92,
   "id": "87745042",
   "metadata": {},
   "outputs": [
    {
     "data": {
      "text/plain": [
       "2"
      ]
     },
     "execution_count": 92,
     "metadata": {},
     "output_type": "execute_result"
    }
   ],
   "source": [
    "value(2)"
   ]
  },
  {
   "cell_type": "code",
   "execution_count": 93,
   "id": "fa72fc59",
   "metadata": {},
   "outputs": [
    {
     "data": {
      "text/plain": [
       "7"
      ]
     },
     "execution_count": 93,
     "metadata": {},
     "output_type": "execute_result"
    }
   ],
   "source": [
    "value(-7)"
   ]
  },
  {
   "cell_type": "code",
   "execution_count": null,
   "id": "2e489f47",
   "metadata": {},
   "outputs": [],
   "source": []
  }
 ],
 "metadata": {
  "kernelspec": {
   "display_name": "Python 3 (ipykernel)",
   "language": "python",
   "name": "python3"
  },
  "language_info": {
   "codemirror_mode": {
    "name": "ipython",
    "version": 3
   },
   "file_extension": ".py",
   "mimetype": "text/x-python",
   "name": "python",
   "nbconvert_exporter": "python",
   "pygments_lexer": "ipython3",
   "version": "3.10.10"
  }
 },
 "nbformat": 4,
 "nbformat_minor": 5
}
